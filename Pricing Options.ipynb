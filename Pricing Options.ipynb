{
 "cells": [
  {
   "cell_type": "markdown",
   "metadata": {},
   "source": [
    "# Financial Engineering and Risk Management Part III\n",
    "## Option Pricing Notebook"
   ]
  },
  {
   "cell_type": "markdown",
   "metadata": {},
   "source": [
    "This notebook serves as a guide for answering the programming questions of the quiz \"Option Pricing Assignment Part IV\". Most of the auxiliary functions and the basic structure of the code have been provided and you will only be required to code some missing parts.\n",
    "\n",
    "After completing this notebook, you will be able to price European put option using either numerical integration or FFT. The second approach is useful since you only need to specify the model's characteristic function, instead of the density which may note be readily available.\n",
    "\n",
    "Most of the code is similar to the one used by Prof. Hirsa in the videos. We invite you to carefully study the video before going through the notebook.\n",
    "\n",
    "Once that you are confident that the notebook is running correctly, please input your answers manually on the quiz \"Option Pricing Assignment Part IV\".\n",
    "\n",
    "If you wish to run this notebook (as it is) on your local computer you will need to have installed Python 3.6, Jupyter notebooks, and the following Python packages:\n",
    "\n",
    "* numpy\n",
    "* time"
   ]
  },
  {
   "cell_type": "markdown",
   "metadata": {},
   "source": [
    "### Import Python modules"
   ]
  },
  {
   "cell_type": "code",
   "execution_count": null,
   "metadata": {},
   "outputs": [],
   "source": [
    "import numpy as np # for fast vector computations\n",
    "from time import time # to obtain the running time of some functions"
   ]
  },
  {
   "cell_type": "markdown",
   "metadata": {},
   "source": [
    "### Pricing puts using via numerical integration\n",
    "#### Questions 9, 10, 11, and 12 of the quiz \"Option Pricing Assignment Part IV\""
   ]
  },
  {
   "cell_type": "markdown",
   "metadata": {},
   "source": [
    "For these questions we assume that the stock price follows a lognormal distribution. The following is a function that computes the lognormal density."
   ]
  },
  {
   "cell_type": "code",
   "execution_count": null,
   "metadata": {},
   "outputs": [],
   "source": [
    "def logNormal(S, r, q, sig, S0, T):\n",
    "    ''' Computes the log normal density function for the stock price. '''\n",
    "    f = np.exp(-0.5*((np.log(S/S0)-(r-q-sig**2/2)*T)/(sig*np.sqrt(T)))**2) / (sig*S*np.sqrt(2*np.pi*T))\n",
    "    return f"
   ]
  },
  {
   "cell_type": "markdown",
   "metadata": {},
   "source": [
    "Warning: be careful when evaluating this function at $S=0.0$. The theoretical value should be $f=0.0$, but the function above will give you a warning and a NaN value. A quick fix is to evaluate it at $S=\\epsilon$, where $\\epsilon$ is a small positive number such as 1e-8.\n",
    "\n",
    "We want to estimate the price of a European put with the following parameters:"
   ]
  },
  {
   "cell_type": "code",
   "execution_count": null,
   "metadata": {},
   "outputs": [],
   "source": [
    "# Parameters for put\n",
    "S0 = 100\n",
    "K = 90\n",
    "r = 0.04\n",
    "q = 0.02\n",
    "sig = 0.25\n",
    "T = 1.0"
   ]
  },
  {
   "cell_type": "markdown",
   "metadata": {},
   "source": [
    "Now, we will use the numerical integration method of Module 3 to price this put. For this, complete the following function that takes as arguments the above parameters and a positive integer $N$ which is the number of grid points."
   ]
  },
  {
   "cell_type": "code",
   "execution_count": null,
   "metadata": {},
   "outputs": [],
   "source": [
    "def numerical_integral_put(r, q, S0, K, sig, T, N):\n",
    "    ''' Numerical integration for puts. '''\n",
    "    \n",
    "    # temporary value for output\n",
    "    eta = 0.0 # spacing of the grid\n",
    "    priceP = 0.0 # price of the put\n",
    "    \n",
    "    ###############################################################\n",
    "    ###############################################################\n",
    "    # your code starts here\n",
    "    ###############################################################\n",
    "    \n",
    "    #discount factor\n",
    "    df = np.exp(-r * T)\n",
    "    # step size\n",
    "    eta = 1. * K / N\n",
    "    # vector of stock prices\n",
    "    S = np.arange(0, N) * eta\n",
    "    # avoid numerical issues\n",
    "    S[0] = 1e-8\n",
    "    # vector of weights\n",
    "    w = np.ones(N) * eta\n",
    "    w[0] = eta / 2\n",
    "    # lognormal densities\n",
    "    logN = np.zeros(N)\n",
    "    logN = logNormal(S, r, q, sig, S0, T)\n",
    "    # numerical integral\n",
    "    sumP = np.sum((K - S) * logN * w)\n",
    "    # price put\n",
    "    priceP = df * sumP\n",
    "\n",
    "    ###############################################################\n",
    "    # your code ends here\n",
    "    ###############################################################\n",
    "    ###############################################################\n",
    "    \n",
    "    return eta, priceP"
   ]
  },
  {
   "cell_type": "markdown",
   "metadata": {},
   "source": [
    "We use the previous function to price the put for different values of $N=2^n$, $n=1,2,\\ldots,15$."
   ]
  },
  {
   "cell_type": "code",
   "execution_count": null,
   "metadata": {},
   "outputs": [],
   "source": [
    "# vector with all values of n\n",
    "n_min = 1\n",
    "n_max = 15\n",
    "n_vec = np.arange(n_min, n_max + 1, dtype=int)"
   ]
  },
  {
   "cell_type": "code",
   "execution_count": null,
   "metadata": {},
   "outputs": [],
   "source": [
    "# compute the numerical integration for each value of n\n",
    "start_time = time()\n",
    "# will store the results in vectors\n",
    "eta_vec = np.zeros(n_max)\n",
    "put_vec = np.zeros(n_max)\n",
    "for i in range(n_max):\n",
    "    N = 2** n_vec[i]\n",
    "    ###############################################################\n",
    "    ###############################################################\n",
    "    # your code starts here\n",
    "    ###############################################################\n",
    "    \n",
    "    [eta_vec[i], put_vec[i]] = numerical_integral_put(r, q, S0, K, sig, T, N)\n",
    "    \n",
    "    ###############################################################\n",
    "    # your code ends here\n",
    "    ###############################################################\n",
    "    ###############################################################\n",
    "end_time = time()\n",
    "print('Elapsed time (seconds): ' + str(end_time - start_time))"
   ]
  },
  {
   "cell_type": "markdown",
   "metadata": {},
   "source": [
    "We print a table with the results."
   ]
  },
  {
   "cell_type": "code",
   "execution_count": null,
   "metadata": {},
   "outputs": [],
   "source": [
    "# print a table with the numerical integration for each value of n\n",
    "print('N\\teta\\tP_0')\n",
    "for i in range(n_max):\n",
    "    print('2^%i\\t%.3f\\t%.4f' % (n_vec[i], eta_vec[i], put_vec[i]))"
   ]
  },
  {
   "cell_type": "markdown",
   "metadata": {},
   "source": [
    "#### Question 9\n",
    "\n",
    "Input manually on the quiz page."
   ]
  },
  {
   "cell_type": "code",
   "execution_count": null,
   "metadata": {},
   "outputs": [],
   "source": [
    "# eta, when n = 3\n",
    "n_question = 3\n",
    "# remember that Python indices start at 0\n",
    "print(eta_vec[n_question-1])"
   ]
  },
  {
   "cell_type": "markdown",
   "metadata": {},
   "source": [
    "#### Question 10\n",
    "\n",
    "Input manually on the quiz page."
   ]
  },
  {
   "cell_type": "code",
   "execution_count": null,
   "metadata": {},
   "outputs": [],
   "source": [
    "# eta, when n = 10\n",
    "n_question = 10\n",
    "# remember that Python indices start at 0\n",
    "print(eta_vec[n_question-1])"
   ]
  },
  {
   "cell_type": "markdown",
   "metadata": {},
   "source": [
    "#### Question 11\n",
    "\n",
    "Input manually on the quiz page."
   ]
  },
  {
   "cell_type": "code",
   "execution_count": null,
   "metadata": {},
   "outputs": [],
   "source": [
    "# put, when n = 4\n",
    "n_question = 4\n",
    "# remember that Python indices start at 0\n",
    "print(put_vec[n_question-1])"
   ]
  },
  {
   "cell_type": "markdown",
   "metadata": {},
   "source": [
    "#### Question 12\n",
    "\n",
    "Input manually on the quiz page."
   ]
  },
  {
   "cell_type": "code",
   "execution_count": null,
   "metadata": {},
   "outputs": [],
   "source": [
    "# put, when n = 15\n",
    "n_question = 15\n",
    "# remember that Python indices start at 0\n",
    "print(put_vec[n_question-1])"
   ]
  },
  {
   "cell_type": "markdown",
   "metadata": {},
   "source": [
    "### Pricing puts using via FFT\n",
    "#### Questions 13, 14, 15 of the quiz \"Option Pricing Assignment Part IV\""
   ]
  },
  {
   "cell_type": "markdown",
   "metadata": {},
   "source": [
    "In the videos, we saw how to price call options using FFT. The extension to put options is straighforward and we refer you to \"Option Pricing Assignment Part II\" for more information.\n",
    "\n",
    "We first need a function that computes the characteristic function of the log-stock price for 3 different models: BMS, Heston, and VG (each one with different sets of parameters). The function below will do the job! The part of Heston and VG is already complete, you just need to implement the BMS part."
   ]
  },
  {
   "cell_type": "code",
   "execution_count": null,
   "metadata": {},
   "outputs": [],
   "source": [
    "def generic_CF(u, params, S0, r, q, T, model):\n",
    "    ''' Computes the characteristic function for different models (BMS, Heston, VG). '''   \n",
    "    \n",
    "    if (model == 'BMS'):\n",
    "        # unpack parameters\n",
    "        sig = params[0]\n",
    "        # cf\n",
    "        ###############################################################\n",
    "        ###############################################################\n",
    "        # your code starts here\n",
    "        ###############################################################\n",
    "        mu = np.log(S0) + (r-q-sig**2/2)*T\n",
    "        a = sig*np.sqrt(T)\n",
    "        phi = np.exp(1j*mu*u-(a*u)**2/2)\n",
    "        ###############################################################\n",
    "        # your code ends here\n",
    "        ###############################################################\n",
    "        ###############################################################      \n",
    "    elif(model == 'Heston'):  \n",
    "        # unpack parameters\n",
    "        kappa  = params[0]\n",
    "        theta  = params[1]\n",
    "        sigma  = params[2]\n",
    "        rho    = params[3]\n",
    "        v0     = params[4]\n",
    "        # cf\n",
    "        tmp = (kappa-1j*rho*sigma*u)\n",
    "        g = np.sqrt((sigma**2)*(u**2+1j*u)+tmp**2)        \n",
    "        pow1 = 2*kappa*theta/(sigma**2)\n",
    "        numer1 = (kappa*theta*T*tmp)/(sigma**2) + 1j*u*T*r + 1j*u*np.log(S0)\n",
    "        log_denum1 = pow1 * np.log(np.cosh(g*T/2)+(tmp/g)*np.sinh(g*T/2))\n",
    "        tmp2 = ((u*u+1j*u)*v0)/(g/np.tanh(g*T/2)+tmp)\n",
    "        log_phi = numer1 - log_denum1 - tmp2\n",
    "        phi = np.exp(log_phi)\n",
    "\n",
    "    elif (model == 'VG'):\n",
    "        # unpack parameters\n",
    "        sigma  = params[0];\n",
    "        nu     = params[1];\n",
    "        theta  = params[2];\n",
    "        # cf\n",
    "        if (nu == 0):\n",
    "            mu = np.log(S0) + (r-q - theta -0.5*sigma**2)*T\n",
    "            phi  = np.exp(1j*u*mu) * np.exp((1j*theta*u-0.5*sigma**2*u**2)*T)\n",
    "        else:\n",
    "            mu  = np.log(S0) + (r-q + np.log(1-theta*nu-0.5*sigma**2*nu)/nu)*T\n",
    "            phi = np.exp(1j*u*mu)*((1-1j*nu*theta*u+0.5*nu*sigma**2*u**2)**(-T/nu))\n",
    "\n",
    "    return phi"
   ]
  },
  {
   "cell_type": "markdown",
   "metadata": {},
   "source": [
    "We now provide you with a function that uses FFT to price European option for any of the 3 models we have discussed. The same function works for both calls and puts (you should ask yourself: how and why?). The function is complete, you don't need to add any code. It return two vectors, one with the log-strikes and one with option prices."
   ]
  },
  {
   "cell_type": "code",
   "execution_count": null,
   "metadata": {},
   "outputs": [],
   "source": [
    "def genericFFT(params, S0, K, r, q, T, alpha, eta, n, model):\n",
    "    ''' Option pricing using FFT (model-free). '''\n",
    "    \n",
    "    N = 2**n\n",
    "    \n",
    "    # step-size in log strike space\n",
    "    lda = (2 * np.pi / N) / eta\n",
    "    \n",
    "    # choice of beta\n",
    "    #beta = np.log(S0)-N*lda/2 # the log strike we want is in the middle of the array\n",
    "    beta = np.log(K) # the log strike we want is the first element of the array\n",
    "    \n",
    "    # forming vector x and strikes km for m=1,...,N\n",
    "    km = np.zeros(N)\n",
    "    xX = np.zeros(N)\n",
    "    \n",
    "    # discount factor\n",
    "    df = np.exp(-r*T)\n",
    "    \n",
    "    nuJ = np.arange(N) * eta\n",
    "    psi_nuJ = generic_CF(nuJ - (alpha + 1) * 1j, params, S0, r, q, T, model) / ((alpha + 1j*nuJ)*(alpha+1+1j*nuJ))\n",
    "    \n",
    "    km = beta + lda * np.arange(N)\n",
    "    w = eta * np.ones(N)\n",
    "    w[0] = eta / 2\n",
    "    xX = np.exp(-1j * beta * nuJ) * df * psi_nuJ * w\n",
    "     \n",
    "    yY = np.fft.fft(xX)\n",
    "    cT_km = np.zeros(N) \n",
    "    multiplier = np.exp(-alpha * km) / np.pi\n",
    "    cT_km = multiplier * np.real(yY)\n",
    "    \n",
    "    return km, cT_km"
   ]
  },
  {
   "cell_type": "markdown",
   "metadata": {},
   "source": [
    "We want to estimate a European put with the following parameters:"
   ]
  },
  {
   "cell_type": "code",
   "execution_count": null,
   "metadata": {},
   "outputs": [],
   "source": [
    "# parameters\n",
    "S0 = 100\n",
    "K = 80\n",
    "r = 0.05\n",
    "q = 0.01\n",
    "T = 1.0"
   ]
  },
  {
   "cell_type": "markdown",
   "metadata": {},
   "source": [
    "For the 3 models, we consider the same values of $\\alpha$, $\\eta$, and $n$."
   ]
  },
  {
   "cell_type": "code",
   "execution_count": null,
   "metadata": {},
   "outputs": [],
   "source": [
    "# parameters for fft\n",
    "eta_vec = np.array([0.1, 0.25])\n",
    "n_vec = np.array([6, 10])\n",
    "alpha_vec = np.array([-1.01, -1.25, -1.5, -1.75, -2., -5.])\n",
    "num_prices = len(eta_vec) * len(n_vec) * len(alpha_vec)"
   ]
  },
  {
   "cell_type": "markdown",
   "metadata": {},
   "source": [
    "We write a function that given a model and the above parameters will compute the put price."
   ]
  },
  {
   "cell_type": "code",
   "execution_count": null,
   "metadata": {},
   "outputs": [],
   "source": [
    "def price_all_puts(params, S0, K, r, q, T, model, alpha_vec, eta_vec, n_vec):\n",
    "    num_prices = len(eta_vec) * len(n_vec) * len(alpha_vec)\n",
    "    # output is a matrix, the columns correspond to eta, n, alpha, and put price\n",
    "    put_matrix = np.zeros([num_prices, 4])\n",
    "    i = 0\n",
    "    for eta in eta_vec:\n",
    "        for n in n_vec:\n",
    "            for alpha in alpha_vec:\n",
    "                # pricing via fft\n",
    "                put = 0 # store here the put price\n",
    "                ###############################################################\n",
    "                ###############################################################\n",
    "                # your code starts here\n",
    "                ###############################################################\n",
    "                k_vec, option_vec = genericFFT(params, S0, K, r, q, T, alpha, eta, n, model)\n",
    "                put = option_vec[0] # only interested in one strike\n",
    "                ###############################################################\n",
    "                # your code ends here\n",
    "                ###############################################################\n",
    "                ###############################################################\n",
    "                put_matrix[i] = np.array([eta, n, alpha, put])\n",
    "                i += 1\n",
    "    return put_matrix"
   ]
  },
  {
   "cell_type": "markdown",
   "metadata": {},
   "source": [
    "#### BMS\n",
    "\n",
    "These are the parameters for the model."
   ]
  },
  {
   "cell_type": "code",
   "execution_count": null,
   "metadata": {},
   "outputs": [],
   "source": [
    "# model-specific parameters\n",
    "mod = 'BMS'\n",
    "sig = 0.3\n",
    "params = [sig]"
   ]
  },
  {
   "cell_type": "code",
   "execution_count": null,
   "metadata": {},
   "outputs": [],
   "source": [
    "start_time = time()\n",
    "bms_matrix = price_all_puts(params, S0, K, r, q, T, mod, alpha_vec, eta_vec, n_vec)\n",
    "end_time = time()\n",
    "print('Elapsed time (seconds): ' + str(end_time - start_time))"
   ]
  },
  {
   "cell_type": "code",
   "execution_count": null,
   "metadata": {},
   "outputs": [],
   "source": [
    "# print results in table form\n",
    "print('Model = ' + mod)\n",
    "print('eta\\tN\\talpha\\tput')\n",
    "for i in range(num_prices):\n",
    "    print('%.2f\\t2^%i\\t%.2f\\t%.4f' % (bms_matrix[i,0], bms_matrix[i,1], bms_matrix[i,2], bms_matrix[i,3]))"
   ]
  },
  {
   "cell_type": "markdown",
   "metadata": {},
   "source": [
    "#### Question 13\n",
    "\n",
    "Input manually on the quiz page.\n",
    "\n",
    "After inspecting the numerical results for different values of $\\alpha$, $\\eta$, $n$, what is the price of the European put using the BMS model?"
   ]
  },
  {
   "cell_type": "code",
   "execution_count": null,
   "metadata": {},
   "outputs": [],
   "source": [
    "# solution (should be deleted)\n",
    "2.7080"
   ]
  },
  {
   "cell_type": "markdown",
   "metadata": {},
   "source": [
    "#### Heston"
   ]
  },
  {
   "cell_type": "code",
   "execution_count": null,
   "metadata": {},
   "outputs": [],
   "source": [
    "# model-specific parameters\n",
    "mod = 'Heston'\n",
    "kappa = 2.\n",
    "theta = 0.05\n",
    "lda = 0.3\n",
    "rho = -0.7\n",
    "v0 = 0.04\n",
    "params = [kappa, theta, lda, rho, v0]"
   ]
  },
  {
   "cell_type": "code",
   "execution_count": null,
   "metadata": {},
   "outputs": [],
   "source": [
    "start_time = time()\n",
    "heston_matrix = price_all_puts(params, S0, K, r, q, T, mod, alpha_vec, eta_vec, n_vec)\n",
    "end_time = time()\n",
    "print('Elapsed time (seconds): ' + str(end_time - start_time))"
   ]
  },
  {
   "cell_type": "code",
   "execution_count": null,
   "metadata": {},
   "outputs": [],
   "source": [
    "# print results in table form\n",
    "print('Model = ' + mod)\n",
    "print('eta\\tN\\talpha\\tput')\n",
    "for i in range(num_prices):\n",
    "    print('%.2f\\t2^%i\\t%.2f\\t%.4f' % (heston_matrix[i,0], heston_matrix[i,1], heston_matrix[i,2], heston_matrix[i,3]))"
   ]
  },
  {
   "cell_type": "markdown",
   "metadata": {},
   "source": [
    "#### Question 14\n",
    "\n",
    "Input manually on the quiz page.\n",
    "\n",
    "After inspecting the numerical results for different values of $\\alpha$, $\\eta$, $n$, what is the price of the European put using the Heston model?"
   ]
  },
  {
   "cell_type": "code",
   "execution_count": null,
   "metadata": {},
   "outputs": [],
   "source": [
    "# solution (should be deleted)\n",
    "1.3412"
   ]
  },
  {
   "cell_type": "markdown",
   "metadata": {},
   "source": [
    "#### VG"
   ]
  },
  {
   "cell_type": "code",
   "execution_count": null,
   "metadata": {},
   "outputs": [],
   "source": [
    "# model-specific parameters\n",
    "mod = 'VG'\n",
    "sigma = 0.3\n",
    "nu = 0.5\n",
    "theta = -0.4\n",
    "params = [sigma, nu, theta]"
   ]
  },
  {
   "cell_type": "code",
   "execution_count": null,
   "metadata": {},
   "outputs": [],
   "source": [
    "start_time = time()\n",
    "vg_matrix = price_all_puts(params, S0, K, r, q, T, mod, alpha_vec, eta_vec, n_vec)\n",
    "end_time = time()\n",
    "print('Elapsed time (seconds): ' + str(end_time - start_time))"
   ]
  },
  {
   "cell_type": "code",
   "execution_count": null,
   "metadata": {},
   "outputs": [],
   "source": [
    "# print results in table form\n",
    "print('Model = ' + mod)\n",
    "print('eta\\tN\\talpha\\tput')\n",
    "for i in range(num_prices):\n",
    "    print('%.2f\\t2^%i\\t%.2f\\t%.4f' % (vg_matrix[i,0], vg_matrix[i,1], vg_matrix[i,2], vg_matrix[i,3]))"
   ]
  },
  {
   "cell_type": "markdown",
   "metadata": {},
   "source": [
    "#### Question 15\n",
    "\n",
    "Input manually on the quiz page.\n",
    "\n",
    "After inspecting the numerical results for different values of $\\alpha$, $\\eta$, $n$, what is the price of the European put using the VG model?"
   ]
  },
  {
   "cell_type": "code",
   "execution_count": null,
   "metadata": {},
   "outputs": [],
   "source": [
    "# solution (should be deleted)\n",
    "5.3137"
   ]
  }
 ],
 "metadata": {
  "kernelspec": {
   "display_name": "Python 3",
   "language": "python",
   "name": "python3"
  },
  "language_info": {
   "codemirror_mode": {
    "name": "ipython",
    "version": 3
   },
   "file_extension": ".py",
   "mimetype": "text/x-python",
   "name": "python",
   "nbconvert_exporter": "python",
   "pygments_lexer": "ipython3",
   "version": "3.8.3"
  }
 },
 "nbformat": 4,
 "nbformat_minor": 2
}
